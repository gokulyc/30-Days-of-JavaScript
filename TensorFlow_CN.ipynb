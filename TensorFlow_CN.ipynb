{
  "nbformat": 4,
  "nbformat_minor": 0,
  "metadata": {
    "colab": {
      "name": "TensorFlow_CN.ipynb",
      "provenance": [],
      "authorship_tag": "ABX9TyO8kFL2ZBBeacUVQaNLD+1X",
      "include_colab_link": true
    },
    "kernelspec": {
      "name": "python3",
      "display_name": "Python 3"
    }
  },
  "cells": [
    {
      "cell_type": "markdown",
      "metadata": {
        "id": "view-in-github",
        "colab_type": "text"
      },
      "source": [
        "<a href=\"https://colab.research.google.com/github/gokulyc/30-Days-of-JavaScript/blob/master/TensorFlow_CN.ipynb\" target=\"_parent\"><img src=\"https://colab.research.google.com/assets/colab-badge.svg\" alt=\"Open In Colab\"/></a>"
      ]
    },
    {
      "cell_type": "code",
      "metadata": {
        "id": "4lHRmIZd3Kav",
        "colab_type": "code",
        "colab": {}
      },
      "source": [
        "import tensorflow as tf"
      ],
      "execution_count": 1,
      "outputs": []
    },
    {
      "cell_type": "code",
      "metadata": {
        "id": "pmWfSZV_5FB0",
        "colab_type": "code",
        "colab": {}
      },
      "source": [
        "# tensorflow v2 legacy mode\n",
        "tf.compat.v1.disable_eager_execution()\n",
        "sess= tf.compat.v1.Session()"
      ],
      "execution_count": 2,
      "outputs": []
    },
    {
      "cell_type": "code",
      "metadata": {
        "id": "dZlx5Yj63Ugp",
        "colab_type": "code",
        "colab": {
          "base_uri": "https://localhost:8080/",
          "height": 50
        },
        "outputId": "f57cf0d7-1d56-4938-d0b6-1c3348f463a4"
      },
      "source": [
        "a=tf.constant(2)\n",
        "b=tf.constant(3)\n",
        "a,b"
      ],
      "execution_count": 3,
      "outputs": [
        {
          "output_type": "execute_result",
          "data": {
            "text/plain": [
              "(<tf.Tensor 'Const:0' shape=() dtype=int32>,\n",
              " <tf.Tensor 'Const_1:0' shape=() dtype=int32>)"
            ]
          },
          "metadata": {
            "tags": []
          },
          "execution_count": 3
        }
      ]
    },
    {
      "cell_type": "code",
      "metadata": {
        "id": "qTLrVnNZ3pR1",
        "colab_type": "code",
        "colab": {
          "base_uri": "https://localhost:8080/",
          "height": 33
        },
        "outputId": "0532236d-7be6-463c-dee5-6b26bdbc5950"
      },
      "source": [
        "c=a+b\n",
        "c"
      ],
      "execution_count": 4,
      "outputs": [
        {
          "output_type": "execute_result",
          "data": {
            "text/plain": [
              "<tf.Tensor 'add:0' shape=() dtype=int32>"
            ]
          },
          "metadata": {
            "tags": []
          },
          "execution_count": 4
        }
      ]
    },
    {
      "cell_type": "code",
      "metadata": {
        "id": "Mt-C6DZ93uqH",
        "colab_type": "code",
        "colab": {
          "base_uri": "https://localhost:8080/",
          "height": 33
        },
        "outputId": "5bf7a62f-06cf-4b1b-db8a-1e98fca38e7f"
      },
      "source": [
        "\n",
        "sess.run(c)"
      ],
      "execution_count": 5,
      "outputs": [
        {
          "output_type": "execute_result",
          "data": {
            "text/plain": [
              "5"
            ]
          },
          "metadata": {
            "tags": []
          },
          "execution_count": 5
        }
      ]
    },
    {
      "cell_type": "code",
      "metadata": {
        "id": "47wHV1OY391O",
        "colab_type": "code",
        "colab": {}
      },
      "source": [
        "a1="
      ],
      "execution_count": null,
      "outputs": []
    }
  ]
}